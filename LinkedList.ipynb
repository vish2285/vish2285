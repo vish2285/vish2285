{
  "nbformat": 4,
  "nbformat_minor": 0,
  "metadata": {
    "colab": {
      "provenance": [],
      "authorship_tag": "ABX9TyOuuzLCS8qvZaZ6tLVGIsIw",
      "include_colab_link": true
    },
    "kernelspec": {
      "name": "python3",
      "display_name": "Python 3"
    },
    "language_info": {
      "name": "python"
    }
  },
  "cells": [
    {
      "cell_type": "markdown",
      "metadata": {
        "id": "view-in-github",
        "colab_type": "text"
      },
      "source": [
        "<a href=\"https://colab.research.google.com/github/vish2285/vish2285/blob/main/LinkedList.ipynb\" target=\"_parent\"><img src=\"https://colab.research.google.com/assets/colab-badge.svg\" alt=\"Open In Colab\"/></a>"
      ]
    },
    {
      "cell_type": "code",
      "execution_count": null,
      "metadata": {
        "id": "3cdgxXh5YenM"
      },
      "outputs": [],
      "source": [
        "class Node:\n",
        "\n",
        "  def __init__(self,value):\n",
        "    self.data = value\n",
        "    self.next = None"
      ]
    },
    {
      "cell_type": "code",
      "source": [
        "a = Node(1)\n",
        "b = Node(2)\n",
        "c = Node(3)"
      ],
      "metadata": {
        "id": "DNUm7J5OY4Pj"
      },
      "execution_count": null,
      "outputs": []
    },
    {
      "cell_type": "code",
      "source": [
        "print(c.data)"
      ],
      "metadata": {
        "colab": {
          "base_uri": "https://localhost:8080/"
        },
        "id": "NFxWbiwfY78K",
        "outputId": "76b56833-38d9-4fcf-b9bd-7277a5e194ff"
      },
      "execution_count": null,
      "outputs": [
        {
          "output_type": "stream",
          "name": "stdout",
          "text": [
            "3\n"
          ]
        }
      ]
    },
    {
      "cell_type": "code",
      "source": [
        "a.next = b\n",
        "b.next = c"
      ],
      "metadata": {
        "id": "0gpAKea9ZBaj"
      },
      "execution_count": null,
      "outputs": []
    },
    {
      "cell_type": "code",
      "source": [
        "print(a.next)"
      ],
      "metadata": {
        "colab": {
          "base_uri": "https://localhost:8080/"
        },
        "id": "VuQxtXZoZfmI",
        "outputId": "15065d99-98ae-46e5-e1fd-a574f5046d15"
      },
      "execution_count": null,
      "outputs": [
        {
          "output_type": "stream",
          "name": "stdout",
          "text": [
            "<__main__.Node object at 0x7fc2c1340df0>\n"
          ]
        }
      ]
    },
    {
      "cell_type": "code",
      "source": [
        "int(0x7fc2c1340df0)"
      ],
      "metadata": {
        "colab": {
          "base_uri": "https://localhost:8080/"
        },
        "id": "XG3RRztzZkY2",
        "outputId": "696a9ab6-9af4-41f7-ea81-03d1b977ade7"
      },
      "execution_count": null,
      "outputs": [
        {
          "output_type": "execute_result",
          "data": {
            "text/plain": [
              "140474441797104"
            ]
          },
          "metadata": {},
          "execution_count": 9
        }
      ]
    },
    {
      "cell_type": "code",
      "source": [
        "class Node:\n",
        "\n",
        "  def __init__(self,value):\n",
        "    self.data = value\n",
        "    self.next = None"
      ],
      "metadata": {
        "id": "ImpR4HU4Z25E"
      },
      "execution_count": null,
      "outputs": []
    },
    {
      "cell_type": "code",
      "source": [
        "\n",
        "class LinkedList:\n",
        "  def __init__(self):\n",
        "\n",
        "    # Empty Linked List\n",
        "    self.head = None\n",
        "    # no of nodes in the LL\n",
        "    self.n = 0\n",
        "\n",
        "  def __len__(self):\n",
        "    return self.n\n",
        "\n",
        "  def insert_head(self,value):\n",
        "\n",
        "    # new node\n",
        "    new_node = Node(value)\n",
        "\n",
        "    # create connection\n",
        "    new_node.next = self.head\n",
        "\n",
        "    # reassign head\n",
        "    self.head = new_node\n",
        "\n",
        "    # increment n\n",
        "    self.n = self.n + 1\n",
        "\n",
        "  def __str__(self):\n",
        "\n",
        "    curr = self.head\n",
        "\n",
        "    result = ''\n",
        "\n",
        "    while curr != None:\n",
        "      result = result + str(curr.data) + '->'\n",
        "      curr = curr.next\n",
        "\n",
        "    return result[0:-2]\n",
        "\n",
        "  def append(self,value):\n",
        "    new_node = Node(value)\n",
        "    if self.head == None:\n",
        "      self.head = new_node\n",
        "      self.n +=1\n",
        "      return\n",
        "\n",
        "    curr = self.head\n",
        "\n",
        "    while curr.next != None:\n",
        "      curr = curr.next\n",
        "\n",
        "    curr.next= new_node\n",
        "    self.n +=1\n",
        "\n",
        "  def insert_after(self,after,value):\n",
        "\n",
        "    new_node = Node(value)\n",
        "\n",
        "    curr = self.head\n",
        "\n",
        "    while curr != None:\n",
        "      if curr.data == after:\n",
        "        break\n",
        "      curr = curr.next\n",
        "    # case 1 break - item apko mil gaya - curr- not none\n",
        "    # case 2 loop pura chala - item nai mila- curr- None\n",
        "    if curr != None:\n",
        "      new_node.next = curr.next # makes the connection between the new node and the node after the new node\n",
        "      curr.next = new_node\n",
        "      self.n = self.n + 1\n",
        "    else:\n",
        "      return 'Item not found'\n",
        "\n",
        "  def clear(self):\n",
        "    self.head = None\n",
        "    self.n= 0\n",
        "\n",
        "  def delete_head(self):\n",
        "    if self.head == None:\n",
        "      # empty\n",
        "      return'Empty LL'\n",
        "\n",
        "    self.head= self.head.next\n",
        "    self.n -=1\n",
        "\n",
        "  def pop(self):\n",
        "    if self.head == 0:\n",
        "      return 'Empty LL'\n",
        "\n",
        "    curr= self.head\n",
        "    if curr.next == None:\n",
        "    # kya linked list me 1 item hai?\n",
        "      return self.delete_head()\n",
        "\n",
        "    while curr.next.next != None:\n",
        "      curr = curr.next\n",
        "\n",
        "    #curr -> 2nd last node\n",
        "    curr.next = None\n",
        "    self.n -= 1\n",
        "\n",
        "  def remove(self,value):\n",
        "\n",
        "    if self.head == None:\n",
        "      return 'Empty LL'\n",
        "\n",
        "    if self.head.data == value:\n",
        "      return self.delete_head()\n",
        "\n",
        "    curr = self.head\n",
        "    while curr.next != None:\n",
        "      if curr.next.data == value:\n",
        "        break\n",
        "      curr = curr.next\n",
        "\n",
        "      # 2 cases item found\n",
        "      # item not found\n",
        "    if curr.next == None:\n",
        "         # item not found\n",
        "      return 'Not Found'\n",
        "    else:\n",
        "      curr.next = curr.next.next\n",
        "\n",
        "  def search(self,value):\n",
        "\n",
        "    curr = self.head\n",
        "    pos = 0\n",
        "\n",
        "    while curr != None:\n",
        "      if curr.data == value:\n",
        "        return pos\n",
        "      curr = curr.next\n",
        "      pos += 1\n",
        "\n",
        "    return 'Item not Found'"
      ],
      "metadata": {
        "id": "KRsyccsrZ5P4"
      },
      "execution_count": null,
      "outputs": []
    },
    {
      "cell_type": "markdown",
      "source": [
        "`If you want to stop at the tail and traverse you need to use this logic curr.next != None becasue when you traverse you stop outside of the LinkedList Nodes which does not exist' Once there is no data thats where the loop for append stops `Inline code`"
      ],
      "metadata": {
        "id": "ekfzbg82h8Up"
      }
    },
    {
      "cell_type": "code",
      "source": [
        "L= LinkedList()"
      ],
      "metadata": {
        "id": "s6kMDEOKafd4"
      },
      "execution_count": null,
      "outputs": []
    },
    {
      "cell_type": "code",
      "source": [
        "L.append(1)\n",
        "L.append(2)\n",
        "L.append(3)\n",
        "L.append(4)"
      ],
      "metadata": {
        "id": "bSWgRHUTajHn"
      },
      "execution_count": null,
      "outputs": []
    },
    {
      "cell_type": "code",
      "source": [
        "L.clear()"
      ],
      "metadata": {
        "id": "zVFPl2t3bSJF"
      },
      "execution_count": null,
      "outputs": []
    },
    {
      "cell_type": "code",
      "source": [
        "print(L)"
      ],
      "metadata": {
        "colab": {
          "base_uri": "https://localhost:8080/"
        },
        "id": "A-e9Tfn6k5_1",
        "outputId": "102b7491-4966-483a-f06b-007bf5bfbba8"
      },
      "execution_count": null,
      "outputs": [
        {
          "output_type": "stream",
          "name": "stdout",
          "text": [
            "1->2->3->4\n"
          ]
        }
      ]
    }
  ]
}